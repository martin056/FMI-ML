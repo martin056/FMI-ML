{
 "cells": [
  {
   "cell_type": "markdown",
   "metadata": {},
   "source": [
    "# Какво ще правя?\n",
    "\n",
    "Харесах си [едно състезание в kaggle](https://www.kaggle.com/c/jigsaw-toxic-comment-classification-challenge). Става въпрос за класифициране на текст и по-точно на \"токсични коментари\".\n",
    "\n",
    "От описанието на състезанието, токсичните коментари имат няколко характеристики (toxic, severe_toxic, obscene, threat, insult, identity_hate), а целта накрая е да се даде оценка на характеристиките на всеки коментар. Коментарите са от статии в Wikipedia и са label-нати от доброволци.\n",
    "\n",
    "*П.П. Може да има и малко по-остра реч в тях.*\n",
    "\n",
    "\n",
    "# Да започваме същинската част\n",
    "\n",
    "\n",
    "Първо ще трябва да си направя някаквъ базов модел. Към момента в състезанието високите оценки са от сорта на `98.67`, така че гоним базов модел със сравнително висока оценка.\n",
    "\n",
    "За целта смятам да използвам някаква вариация на Naive Bayes - все пак ще работим с текст.\n",
    "\n",
    "Да видим все пак как изглежда данните."
   ]
  },
  {
   "cell_type": "code",
   "execution_count": 1,
   "metadata": {},
   "outputs": [],
   "source": [
    "import pandas as pd, numpy as np\n",
    "import matplotlib as mpl\n",
    "import matplotlib.pyplot as plt\n",
    "\n",
    "%matplotlib inline\n",
    "\n",
    "import warnings\n",
    "warnings.filterwarnings('ignore')"
   ]
  },
  {
   "cell_type": "code",
   "execution_count": 2,
   "metadata": {},
   "outputs": [
    {
     "data": {
      "text/html": [
       "<div>\n",
       "<style>\n",
       "    .dataframe thead tr:only-child th {\n",
       "        text-align: right;\n",
       "    }\n",
       "\n",
       "    .dataframe thead th {\n",
       "        text-align: left;\n",
       "    }\n",
       "\n",
       "    .dataframe tbody tr th {\n",
       "        vertical-align: top;\n",
       "    }\n",
       "</style>\n",
       "<table border=\"1\" class=\"dataframe\">\n",
       "  <thead>\n",
       "    <tr style=\"text-align: right;\">\n",
       "      <th></th>\n",
       "      <th>comment_text</th>\n",
       "      <th>toxic</th>\n",
       "      <th>severe_toxic</th>\n",
       "      <th>obscene</th>\n",
       "      <th>threat</th>\n",
       "      <th>insult</th>\n",
       "      <th>identity_hate</th>\n",
       "    </tr>\n",
       "    <tr>\n",
       "      <th>id</th>\n",
       "      <th></th>\n",
       "      <th></th>\n",
       "      <th></th>\n",
       "      <th></th>\n",
       "      <th></th>\n",
       "      <th></th>\n",
       "      <th></th>\n",
       "    </tr>\n",
       "  </thead>\n",
       "  <tbody>\n",
       "    <tr>\n",
       "      <th>806fea2c9bdddf3b</th>\n",
       "      <td>Court records are by definition both accurate ...</td>\n",
       "      <td>0</td>\n",
       "      <td>0</td>\n",
       "      <td>0</td>\n",
       "      <td>0</td>\n",
       "      <td>0</td>\n",
       "      <td>0</td>\n",
       "    </tr>\n",
       "    <tr>\n",
       "      <th>b66c16a90ac8f965</th>\n",
       "      <td>\"\\n\\n Recent page moves (see also: unresolved ...</td>\n",
       "      <td>0</td>\n",
       "      <td>0</td>\n",
       "      <td>0</td>\n",
       "      <td>0</td>\n",
       "      <td>0</td>\n",
       "      <td>0</td>\n",
       "    </tr>\n",
       "    <tr>\n",
       "      <th>ebbf00e1ebe86f7e</th>\n",
       "      <td>douch bag \\n\\nThats you.</td>\n",
       "      <td>1</td>\n",
       "      <td>0</td>\n",
       "      <td>0</td>\n",
       "      <td>0</td>\n",
       "      <td>0</td>\n",
       "      <td>0</td>\n",
       "    </tr>\n",
       "    <tr>\n",
       "      <th>c39553a9b227b554</th>\n",
       "      <td>! And I'm not a sock puppet of Gogo Dodo But s...</td>\n",
       "      <td>0</td>\n",
       "      <td>0</td>\n",
       "      <td>0</td>\n",
       "      <td>0</td>\n",
       "      <td>0</td>\n",
       "      <td>0</td>\n",
       "    </tr>\n",
       "    <tr>\n",
       "      <th>1feb0389279d02ce</th>\n",
       "      <td>I WAS NOT TROLLING, I WAS SUGGESTING THAT HE W...</td>\n",
       "      <td>1</td>\n",
       "      <td>0</td>\n",
       "      <td>0</td>\n",
       "      <td>0</td>\n",
       "      <td>0</td>\n",
       "      <td>0</td>\n",
       "    </tr>\n",
       "    <tr>\n",
       "      <th>9ec1390d1031ecc1</th>\n",
       "      <td>We have tons of research to back it up. Just l...</td>\n",
       "      <td>0</td>\n",
       "      <td>0</td>\n",
       "      <td>0</td>\n",
       "      <td>0</td>\n",
       "      <td>0</td>\n",
       "      <td>0</td>\n",
       "    </tr>\n",
       "    <tr>\n",
       "      <th>c4ab8ff9d664b5a2</th>\n",
       "      <td>Throughout this season of Full House, Michelle...</td>\n",
       "      <td>0</td>\n",
       "      <td>0</td>\n",
       "      <td>0</td>\n",
       "      <td>0</td>\n",
       "      <td>0</td>\n",
       "      <td>0</td>\n",
       "    </tr>\n",
       "    <tr>\n",
       "      <th>9807839c92c15175</th>\n",
       "      <td>\"The Bulgarians were never tengriists, neither...</td>\n",
       "      <td>0</td>\n",
       "      <td>0</td>\n",
       "      <td>0</td>\n",
       "      <td>0</td>\n",
       "      <td>0</td>\n",
       "      <td>0</td>\n",
       "    </tr>\n",
       "    <tr>\n",
       "      <th>c325cb0060687864</th>\n",
       "      <td>\"\\n\\nUnblock: South Korean population update. ...</td>\n",
       "      <td>0</td>\n",
       "      <td>0</td>\n",
       "      <td>0</td>\n",
       "      <td>0</td>\n",
       "      <td>0</td>\n",
       "      <td>0</td>\n",
       "    </tr>\n",
       "    <tr>\n",
       "      <th>4af45c21f752133a</th>\n",
       "      <td>So, could you be more specific?</td>\n",
       "      <td>0</td>\n",
       "      <td>0</td>\n",
       "      <td>0</td>\n",
       "      <td>0</td>\n",
       "      <td>0</td>\n",
       "      <td>0</td>\n",
       "    </tr>\n",
       "    <tr>\n",
       "      <th>f04ed6debd0ca78c</th>\n",
       "      <td>\"Thank you for experimenting with  Wikipedia. ...</td>\n",
       "      <td>0</td>\n",
       "      <td>0</td>\n",
       "      <td>0</td>\n",
       "      <td>0</td>\n",
       "      <td>0</td>\n",
       "      <td>0</td>\n",
       "    </tr>\n",
       "    <tr>\n",
       "      <th>d7ceb24532aeb4ef</th>\n",
       "      <td>\"\\n\\nEDIT: I just finished trying to cleaup th...</td>\n",
       "      <td>0</td>\n",
       "      <td>0</td>\n",
       "      <td>0</td>\n",
       "      <td>0</td>\n",
       "      <td>0</td>\n",
       "      <td>0</td>\n",
       "    </tr>\n",
       "    <tr>\n",
       "      <th>0b29c572320a674e</th>\n",
       "      <td>re: disruption \\n\\nplease, don't think me rude...</td>\n",
       "      <td>0</td>\n",
       "      <td>0</td>\n",
       "      <td>0</td>\n",
       "      <td>0</td>\n",
       "      <td>0</td>\n",
       "      <td>0</td>\n",
       "    </tr>\n",
       "    <tr>\n",
       "      <th>3fc558c7d8c2a8ba</th>\n",
       "      <td>wikipedia is a cold place to be.... maybe i sh...</td>\n",
       "      <td>0</td>\n",
       "      <td>0</td>\n",
       "      <td>0</td>\n",
       "      <td>0</td>\n",
       "      <td>0</td>\n",
       "      <td>0</td>\n",
       "    </tr>\n",
       "    <tr>\n",
       "      <th>63b0eca3a14a9336</th>\n",
       "      <td>Thanks Rossami, although I'm not sure that the...</td>\n",
       "      <td>0</td>\n",
       "      <td>0</td>\n",
       "      <td>0</td>\n",
       "      <td>0</td>\n",
       "      <td>0</td>\n",
       "      <td>0</td>\n",
       "    </tr>\n",
       "  </tbody>\n",
       "</table>\n",
       "</div>"
      ],
      "text/plain": [
       "                                                       comment_text  toxic  \\\n",
       "id                                                                           \n",
       "806fea2c9bdddf3b  Court records are by definition both accurate ...      0   \n",
       "b66c16a90ac8f965  \"\\n\\n Recent page moves (see also: unresolved ...      0   \n",
       "ebbf00e1ebe86f7e                           douch bag \\n\\nThats you.      1   \n",
       "c39553a9b227b554  ! And I'm not a sock puppet of Gogo Dodo But s...      0   \n",
       "1feb0389279d02ce  I WAS NOT TROLLING, I WAS SUGGESTING THAT HE W...      1   \n",
       "9ec1390d1031ecc1  We have tons of research to back it up. Just l...      0   \n",
       "c4ab8ff9d664b5a2  Throughout this season of Full House, Michelle...      0   \n",
       "9807839c92c15175  \"The Bulgarians were never tengriists, neither...      0   \n",
       "c325cb0060687864  \"\\n\\nUnblock: South Korean population update. ...      0   \n",
       "4af45c21f752133a                    So, could you be more specific?      0   \n",
       "f04ed6debd0ca78c  \"Thank you for experimenting with  Wikipedia. ...      0   \n",
       "d7ceb24532aeb4ef  \"\\n\\nEDIT: I just finished trying to cleaup th...      0   \n",
       "0b29c572320a674e  re: disruption \\n\\nplease, don't think me rude...      0   \n",
       "3fc558c7d8c2a8ba  wikipedia is a cold place to be.... maybe i sh...      0   \n",
       "63b0eca3a14a9336  Thanks Rossami, although I'm not sure that the...      0   \n",
       "\n",
       "                  severe_toxic  obscene  threat  insult  identity_hate  \n",
       "id                                                                      \n",
       "806fea2c9bdddf3b             0        0       0       0              0  \n",
       "b66c16a90ac8f965             0        0       0       0              0  \n",
       "ebbf00e1ebe86f7e             0        0       0       0              0  \n",
       "c39553a9b227b554             0        0       0       0              0  \n",
       "1feb0389279d02ce             0        0       0       0              0  \n",
       "9ec1390d1031ecc1             0        0       0       0              0  \n",
       "c4ab8ff9d664b5a2             0        0       0       0              0  \n",
       "9807839c92c15175             0        0       0       0              0  \n",
       "c325cb0060687864             0        0       0       0              0  \n",
       "4af45c21f752133a             0        0       0       0              0  \n",
       "f04ed6debd0ca78c             0        0       0       0              0  \n",
       "d7ceb24532aeb4ef             0        0       0       0              0  \n",
       "0b29c572320a674e             0        0       0       0              0  \n",
       "3fc558c7d8c2a8ba             0        0       0       0              0  \n",
       "63b0eca3a14a9336             0        0       0       0              0  "
      ]
     },
     "execution_count": 2,
     "metadata": {},
     "output_type": "execute_result"
    }
   ],
   "source": [
    "train_data = pd.read_csv('./data/train.csv.zip', index_col=['id'])\n",
    "test_data = pd.read_csv('./data/test.csv.zip', index_col=['id'])\n",
    "\n",
    "sample = train_data.sample(15)\n",
    "sample"
   ]
  },
  {
   "cell_type": "markdown",
   "metadata": {},
   "source": [
    "Ето и първия пример в цялото си изящество."
   ]
  },
  {
   "cell_type": "code",
   "execution_count": 3,
   "metadata": {},
   "outputs": [
    {
     "name": "stdout",
     "output_type": "stream",
     "text": [
      "Court records are by definition both accurate (people are sworn in) and significant (insignificant facts are stricken).  If this article is to include anything from the Eichenwald article, it must also contain any relevant information concerning the motivations and therefore the accuracy of Eichenwald's writing.  If the court records (which Eichenwald incidentally strove for months to keep sealed) are not considered significant, then everything in this article sourced from Eichenwald's exposé must be removed.\n"
     ]
    }
   ],
   "source": [
    "print(sample['comment_text'][0])"
   ]
  },
  {
   "cell_type": "code",
   "execution_count": 4,
   "metadata": {},
   "outputs": [
    {
     "name": "stdout",
     "output_type": "stream",
     "text": [
      "514\n",
      "3511\n",
      "22\n",
      "65\n",
      "57\n",
      "120\n",
      "166\n",
      "1038\n",
      "179\n",
      "31\n",
      "270\n",
      "820\n",
      "116\n",
      "696\n",
      "447\n"
     ]
    }
   ],
   "source": [
    "for text in sample['comment_text']:\n",
    "    print(len(text))"
   ]
  },
  {
   "cell_type": "markdown",
   "metadata": {},
   "source": [
    "Както се вижда, дори и в тази малка извадка, дължината на текстовете варира много. Да видим как точно изглежда това на графика."
   ]
  },
  {
   "cell_type": "code",
   "execution_count": 5,
   "metadata": {},
   "outputs": [
    {
     "data": {
      "text/plain": [
       "count    159571.000000\n",
       "mean        394.073221\n",
       "std         590.720282\n",
       "min           6.000000\n",
       "25%          96.000000\n",
       "50%         205.000000\n",
       "75%         435.000000\n",
       "max        5000.000000\n",
       "Name: comment_text, dtype: float64"
      ]
     },
     "execution_count": 5,
     "metadata": {},
     "output_type": "execute_result"
    }
   ],
   "source": [
    "comments = train_data['comment_text'].str.len()\n",
    "comments.describe()"
   ]
  },
  {
   "cell_type": "code",
   "execution_count": 6,
   "metadata": {},
   "outputs": [
    {
     "data": {
      "text/plain": [
       "<matplotlib.axes._subplots.AxesSubplot at 0x7ff510cdd278>"
      ]
     },
     "execution_count": 6,
     "metadata": {},
     "output_type": "execute_result"
    },
    {
     "data": {
      "image/png": "[encoded data removed]",
      "text/plain": [
       "<matplotlib.figure.Figure at 0x7ff50b79bba8>"
      ]
     },
     "metadata": {},
     "output_type": "display_data"
    }
   ],
   "source": [
    "comments.hist()"
   ]
  },
  {
   "cell_type": "markdown",
   "metadata": {},
   "source": [
    "Вижда се, че почти всички коментари са с дължина около 0-1000, има малко до 2000 и след това са по-скоро аномалии (outlyer-и)."
   ]
  },
  {
   "cell_type": "markdown",
   "metadata": {},
   "source": [
    "В малката извадка, която имаме, се вижда, че има коментар, който не е label-нат - всичките му колкони са 0. Ще направим нов label `unknown` и ще го сложим на подобни коментари."
   ]
  },
  {
   "cell_type": "code",
   "execution_count": 7,
   "metadata": {},
   "outputs": [
    {
     "data": {
      "text/html": [
       "<div>\n",
       "<style>\n",
       "    .dataframe thead tr:only-child th {\n",
       "        text-align: right;\n",
       "    }\n",
       "\n",
       "    .dataframe thead th {\n",
       "        text-align: left;\n",
       "    }\n",
       "\n",
       "    .dataframe tbody tr th {\n",
       "        vertical-align: top;\n",
       "    }\n",
       "</style>\n",
       "<table border=\"1\" class=\"dataframe\">\n",
       "  <thead>\n",
       "    <tr style=\"text-align: right;\">\n",
       "      <th></th>\n",
       "      <th>toxic</th>\n",
       "      <th>severe_toxic</th>\n",
       "      <th>obscene</th>\n",
       "      <th>threat</th>\n",
       "      <th>insult</th>\n",
       "      <th>identity_hate</th>\n",
       "      <th>unknown</th>\n",
       "    </tr>\n",
       "  </thead>\n",
       "  <tbody>\n",
       "    <tr>\n",
       "      <th>count</th>\n",
       "      <td>159571.000000</td>\n",
       "      <td>159571.000000</td>\n",
       "      <td>159571.000000</td>\n",
       "      <td>159571.000000</td>\n",
       "      <td>159571.000000</td>\n",
       "      <td>159571.000000</td>\n",
       "      <td>159571.000000</td>\n",
       "    </tr>\n",
       "    <tr>\n",
       "      <th>mean</th>\n",
       "      <td>0.095844</td>\n",
       "      <td>0.009996</td>\n",
       "      <td>0.052948</td>\n",
       "      <td>0.002996</td>\n",
       "      <td>0.049364</td>\n",
       "      <td>0.008805</td>\n",
       "      <td>0.898321</td>\n",
       "    </tr>\n",
       "    <tr>\n",
       "      <th>std</th>\n",
       "      <td>0.294379</td>\n",
       "      <td>0.099477</td>\n",
       "      <td>0.223931</td>\n",
       "      <td>0.054650</td>\n",
       "      <td>0.216627</td>\n",
       "      <td>0.093420</td>\n",
       "      <td>0.302226</td>\n",
       "    </tr>\n",
       "    <tr>\n",
       "      <th>min</th>\n",
       "      <td>0.000000</td>\n",
       "      <td>0.000000</td>\n",
       "      <td>0.000000</td>\n",
       "      <td>0.000000</td>\n",
       "      <td>0.000000</td>\n",
       "      <td>0.000000</td>\n",
       "      <td>0.000000</td>\n",
       "    </tr>\n",
       "    <tr>\n",
       "      <th>25%</th>\n",
       "      <td>0.000000</td>\n",
       "      <td>0.000000</td>\n",
       "      <td>0.000000</td>\n",
       "      <td>0.000000</td>\n",
       "      <td>0.000000</td>\n",
       "      <td>0.000000</td>\n",
       "      <td>1.000000</td>\n",
       "    </tr>\n",
       "    <tr>\n",
       "      <th>50%</th>\n",
       "      <td>0.000000</td>\n",
       "      <td>0.000000</td>\n",
       "      <td>0.000000</td>\n",
       "      <td>0.000000</td>\n",
       "      <td>0.000000</td>\n",
       "      <td>0.000000</td>\n",
       "      <td>1.000000</td>\n",
       "    </tr>\n",
       "    <tr>\n",
       "      <th>75%</th>\n",
       "      <td>0.000000</td>\n",
       "      <td>0.000000</td>\n",
       "      <td>0.000000</td>\n",
       "      <td>0.000000</td>\n",
       "      <td>0.000000</td>\n",
       "      <td>0.000000</td>\n",
       "      <td>1.000000</td>\n",
       "    </tr>\n",
       "    <tr>\n",
       "      <th>max</th>\n",
       "      <td>1.000000</td>\n",
       "      <td>1.000000</td>\n",
       "      <td>1.000000</td>\n",
       "      <td>1.000000</td>\n",
       "      <td>1.000000</td>\n",
       "      <td>1.000000</td>\n",
       "      <td>1.000000</td>\n",
       "    </tr>\n",
       "  </tbody>\n",
       "</table>\n",
       "</div>"
      ],
      "text/plain": [
       "               toxic   severe_toxic        obscene         threat  \\\n",
       "count  159571.000000  159571.000000  159571.000000  159571.000000   \n",
       "mean        0.095844       0.009996       0.052948       0.002996   \n",
       "std         0.294379       0.099477       0.223931       0.054650   \n",
       "min         0.000000       0.000000       0.000000       0.000000   \n",
       "25%         0.000000       0.000000       0.000000       0.000000   \n",
       "50%         0.000000       0.000000       0.000000       0.000000   \n",
       "75%         0.000000       0.000000       0.000000       0.000000   \n",
       "max         1.000000       1.000000       1.000000       1.000000   \n",
       "\n",
       "              insult  identity_hate        unknown  \n",
       "count  159571.000000  159571.000000  159571.000000  \n",
       "mean        0.049364       0.008805       0.898321  \n",
       "std         0.216627       0.093420       0.302226  \n",
       "min         0.000000       0.000000       0.000000  \n",
       "25%         0.000000       0.000000       1.000000  \n",
       "50%         0.000000       0.000000       1.000000  \n",
       "75%         0.000000       0.000000       1.000000  \n",
       "max         1.000000       1.000000       1.000000  "
      ]
     },
     "execution_count": 7,
     "metadata": {},
     "output_type": "execute_result"
    }
   ],
   "source": [
    "label_cols = ['toxic', 'severe_toxic', 'obscene', 'threat', 'insult', 'identity_hate']\n",
    "train_data['unknown'] = 1 - train_data[label_cols].max(axis=1)\n",
    "\n",
    "label_cols.append('unknown')\n",
    "\n",
    "train_data.describe()"
   ]
  },
  {
   "cell_type": "code",
   "execution_count": 11,
   "metadata": {},
   "outputs": [
    {
     "data": {
      "text/plain": [
       "<matplotlib.axes._subplots.AxesSubplot at 0x7ff510b9c4a8>"
      ]
     },
     "execution_count": 11,
     "metadata": {},
     "output_type": "execute_result"
    },
    {
     "data": {
      "image/png": "[encoded data removed]",
      "text/plain": [
       "<matplotlib.figure.Figure at 0x7ff510c16f60>"
      ]
     },
     "metadata": {},
     "output_type": "display_data"
    }
   ],
   "source": [
    "train_data[label_cols].mean().plot()"
   ]
  },
  {
   "cell_type": "markdown",
   "metadata": {},
   "source": [
    "Преди да започнем с имплементацията на каквото и да било, ще си направя възможно най-базов модел. Ще използвам `CountVectorizer` + `MonomialNB` за него без да си играя да нагласям каквито и да било хиперпараметри, за да мога да добия някаква базова представа.\n",
    "\n",
    "За целта на нашите задачи, ще използваме `MultiOutputClassifier`, тъй като предвиждаме няколко класа."
   ]
  },
  {
   "cell_type": "code",
   "execution_count": 9,
   "metadata": {},
   "outputs": [
    {
     "data": {
      "text/plain": [
       "array([0.90067366, 0.9010779 , 0.90164191, 0.90098389, 0.90270728])"
      ]
     },
     "execution_count": 9,
     "metadata": {},
     "output_type": "execute_result"
    }
   ],
   "source": [
    "from sklearn.feature_extraction.text import CountVectorizer\n",
    "from sklearn.pipeline import Pipeline\n",
    "from sklearn.model_selection import cross_val_score\n",
    "from sklearn.naive_bayes import MultinomialNB\n",
    "from sklearn.multioutput import MultiOutputClassifier\n",
    "\n",
    "\n",
    "pipeline = Pipeline([('vec', CountVectorizer()), ('clf', MultiOutputClassifier(MultinomialNB()))])\n",
    "cross_val_score(pipeline, train_data.comment_text, train_data[label_cols], cv=5, n_jobs=2)"
   ]
  },
  {
   "cell_type": "markdown",
   "metadata": {},
   "source": [
    "![Not bad actually](https://media1.giphy.com/media/11wqqxRxm0uoY8/giphy.gif)"
   ]
  },
  {
   "cell_type": "markdown",
   "metadata": {},
   "source": [
    "### В началото казах, че ще ползваме някаква форма на Naive Bayes\n",
    "\n",
    "В един от кърналите в състезанието се натъкнах на много интересен [paper](https://nlp.stanford.edu/pubs/sidaw12_simple_sentiment.pdf), работа на Sida Wang и Chris Maning. В него се говори за NBSVM, който ще използвам за базов модел.\n",
    "\n",
    "Накратко, те откриват релация между Monomial Naive Bayes и Support Vector Machine. След проведени експерименти, откриват, че MNB се справя доста добре с по-кратки текстове или т.нар. snippets, а SVM е по-добър в пълни по дължина ревюта.\n",
    "\n",
    "Това, като се замисля, е доста логично - ако подадеш на NB малки откази, където има псувни или думи, които ясно изразяват омраза, той лесно ще ги класифицира, като `toxic`, докато с по-пълни текстове ще има повече шум.\n",
    "\n",
    "Комбинацията NBSVM показва много добри резултати както със snippet-и, така и с пълни текстове, взимайки най-доброто от двата алгоритъма.\n",
    "\n",
    "Нещо, което правят, за да подобрят своите експерименти, е използването и на биграми, което смятам да опитам и аз.\n",
    "\n",
    "Според статията, с NBSVM е по-добре да се използва TFIDF, вместо count vectorizer или \"bag of words\" - винаги давало по-добри резултати. Обаче на мен горния резултат ми хареса достатъчно, така че засега ще пробвам и с двете."
   ]
  },
  {
   "cell_type": "code",
   "execution_count": 10,
   "metadata": {},
   "outputs": [],
   "source": [
    "from nltk.tokenize import RegexpTokenizer\n",
    "\n",
    "tokenizer = RegexpTokenizer(r\"'?\\b[0-9A-Za-z'-]+\\b'?\")  # matches numbers, words and words with apostrophes"
   ]
  },
  {
   "cell_type": "markdown",
   "metadata": {},
   "source": [
    "Това горното очевидно си го копирах. Ето какво прави:\n",
    "\n",
    ">re.compile(f'...') compiles the expression([{string.punctuation}...]) into pattern objects (say, for later pattern matching or string substitutions) while the f'...' prefix causes the formatted string literal (f-string) {string.punctuation} to be evaluated at run-time. Note that string.punctuation is a readymade-string of common punctuation marks.\n",
    "\n",
    ">Later re_tok.sub(r' \\1 ', s) finds all the resulting matching-punctuations and adds a prefix and suffix of white-space to those matching patterns. Lastly, split() call tokenizes resulting string into an array of individual words and punctuation marks.\n",
    "\n",
    "Ето пример за нагледно обяснение."
   ]
  },
  {
   "cell_type": "code",
   "execution_count": 11,
   "metadata": {},
   "outputs": [
    {
     "data": {
      "text/plain": [
       "['User',\n",
       " 'Rohedin',\n",
       " 're',\n",
       " 'your',\n",
       " 'warning',\n",
       " 'Uh',\n",
       " 'you',\n",
       " 'sure',\n",
       " 'about',\n",
       " 'that',\n",
       " 'I',\n",
       " 'see',\n",
       " 'two',\n",
       " 'edits',\n",
       " 'here',\n",
       " 'and',\n",
       " 'here',\n",
       " 'Looks',\n",
       " 'OK',\n",
       " 'to',\n",
       " 'me',\n",
       " 'or',\n",
       " 'am',\n",
       " 'I',\n",
       " 'missing',\n",
       " 'something',\n",
       " 'Cheers',\n",
       " 'TFOWR']"
      ]
     },
     "execution_count": 11,
     "metadata": {},
     "output_type": "execute_result"
    }
   ],
   "source": [
    "example = tokenizer.tokenize(sample['comment_text'][0])\n",
    "example"
   ]
  },
  {
   "cell_type": "markdown",
   "metadata": {},
   "source": [
    "Сега да махнем стоп думите."
   ]
  },
  {
   "cell_type": "code",
   "execution_count": 12,
   "metadata": {},
   "outputs": [],
   "source": [
    "# import nltk\n",
    "# nltk.download('stopwords')"
   ]
  },
  {
   "cell_type": "code",
   "execution_count": 13,
   "metadata": {},
   "outputs": [
    {
     "data": {
      "text/plain": [
       "['User',\n",
       " 'Rohedin',\n",
       " 'warning',\n",
       " 'Uh',\n",
       " 'sure',\n",
       " 'I',\n",
       " 'see',\n",
       " 'two',\n",
       " 'edits',\n",
       " 'Looks',\n",
       " 'OK',\n",
       " 'I',\n",
       " 'missing',\n",
       " 'something',\n",
       " 'Cheers',\n",
       " 'TFOWR']"
      ]
     },
     "execution_count": 13,
     "metadata": {},
     "output_type": "execute_result"
    }
   ],
   "source": [
    "from nltk.corpus import stopwords\n",
    "\n",
    "\n",
    "def remove_stop_words(tokens):\n",
    "    english_stop_words = set(stopwords.words('english'))\n",
    "\n",
    "    return [token for token in tokens if token not in english_stop_words]\n",
    "\n",
    "remove_stop_words(example)"
   ]
  },
  {
   "cell_type": "markdown",
   "metadata": {},
   "source": [
    "Добре, близо сме. Ще изкарам една функция, за да тестваме дали имаме желания ефект. Вместо да използвам функцията, ще използваме аргументите на `CountVectorizer` и `TfidfVectorizer`."
   ]
  },
  {
   "cell_type": "code",
   "execution_count": 14,
   "metadata": {},
   "outputs": [
    {
     "data": {
      "text/plain": [
       "['User',\n",
       " 'Rohedin',\n",
       " 'warning',\n",
       " 'Uh',\n",
       " 'sure',\n",
       " 'I',\n",
       " 'see',\n",
       " 'two',\n",
       " 'edits',\n",
       " 'Looks',\n",
       " 'OK',\n",
       " 'I',\n",
       " 'missing',\n",
       " 'something',\n",
       " 'Cheers',\n",
       " 'TFOWR']"
      ]
     },
     "execution_count": 14,
     "metadata": {},
     "output_type": "execute_result"
    }
   ],
   "source": [
    "def handle_tokenization(text):\n",
    "    tokens = tokenizer.tokenize(text)\n",
    "    \n",
    "    tokens_without_stop_words = remove_stop_words(tokens)\n",
    "    \n",
    "    return tokens_without_stop_words\n",
    "\n",
    "\n",
    "handle_tokenization(sample['comment_text'][0])"
   ]
  },
  {
   "cell_type": "markdown",
   "metadata": {},
   "source": [
    "Готови сме! Сега е време да си направим матрицата с думите. Ще използвам униграми и биграми, както пишеше в paper-a. За класификатори ще се пробвам с:\n",
    "- Мultinomial NB\n",
    "- LinearSVC\n",
    "- SVC\n",
    "- RandomForest\n",
    "\n",
    "Ще сравня резултатите от тях с NBSVM, който ще напишем сега."
   ]
  },
  {
   "cell_type": "code",
   "execution_count": 37,
   "metadata": {},
   "outputs": [],
   "source": [
    "from sklearn.base import BaseEstimator, ClassifierMixin\n",
    "from sklearn.utils.validation import check_X_y, check_is_fitted\n",
    "from sklearn.linear_model import LogisticRegression\n",
    "from scipy import sparse\n",
    "\n",
    "\n",
    "class NBSVMClassifier(BaseEstimator, ClassifierMixin):\n",
    "    def __init__(self, C=1.0, dual=False, n_jobs=1):\n",
    "        self.C = C\n",
    "        self.dual = dual\n",
    "        self.n_jobs = n_jobs\n",
    "\n",
    "    def predict(self, x):\n",
    "        # Verify that model has been fit\n",
    "        check_is_fitted(self, ['_r', '_clf'])\n",
    "        return self._clf.predict(x.multiply(self._r))\n",
    "\n",
    "    def predict_proba(self, x):\n",
    "        # Verify that model has been fit\n",
    "        check_is_fitted(self, ['_r', '_clf'])\n",
    "        return self._clf.predict_proba(x.multiply(self._r))\n",
    "\n",
    "    def fit(self, x, y):\n",
    "        # Check that X and y have correct shape\n",
    "        x, y = check_X_y(x, y, accept_sparse=True)\n",
    "\n",
    "        def pr(x, y_i, y):\n",
    "            p = x[y==y_i].sum(0)\n",
    "            return (p+1) / ((y==y_i).sum()+1)\n",
    "\n",
    "        self._r = sparse.csr_matrix(np.log(pr(x,1,y) / pr(x,0,y)))\n",
    "        x_nb = x.multiply(self._r)\n",
    "        self._clf = LogisticRegression(C=self.C, dual=self.dual, n_jobs=self.n_jobs).fit(x_nb, y)\n",
    "        return self"
   ]
  },
  {
   "cell_type": "code",
   "execution_count": 10,
   "metadata": {},
   "outputs": [],
   "source": [
    "def report(results, n_top=5):\n",
    "    for i in range(1, n_top + 1):\n",
    "        candidates = np.flatnonzero(results['rank_test_score'] == i)\n",
    "        for candidate in candidates:\n",
    "            print(\"Model with rank: {0}\".format(i))\n",
    "            print(\"Mean validation score: {0:.3f} (std: {1:.3f})\".format(\n",
    "                  results['mean_test_score'][candidate],\n",
    "                  results['std_test_score'][candidate]))\n",
    "            print(\"Parameters: {0}\".format(results['params'][candidate]))\n",
    "            print(\"\")"
   ]
  },
  {
   "cell_type": "markdown",
   "metadata": {},
   "source": [
    "Понеже чаках над 2 часа с RandomForest, ще го пусна само за 10 дървета, за да видя колко време ще ми отнеме."
   ]
  },
  {
   "cell_type": "code",
   "execution_count": 18,
   "metadata": {},
   "outputs": [
    {
     "name": "stdout",
     "output_type": "stream",
     "text": [
      "[ 0.89613035  0.89875917  0.89825782  0.89882183  0.89850849]\n"
     ]
    },
    {
     "data": {
      "text/plain": [
       "1475.0570828914642"
      ]
     },
     "execution_count": 18,
     "metadata": {},
     "output_type": "execute_result"
    }
   ],
   "source": [
    "from sklearn.feature_extraction.text import CountVectorizer\n",
    "from sklearn.pipeline import Pipeline\n",
    "from sklearn.model_selection import cross_val_score\n",
    "from sklearn.ensemble import RandomForestClassifier\n",
    "from sklearn.multioutput import MultiOutputClassifier\n",
    "\n",
    "\n",
    "def try_random_forest():\n",
    "    import time\n",
    "\n",
    "    start = time.time()\n",
    "    pipeline = Pipeline([('vec', CountVectorizer()), ('clf', MultiOutputClassifier(RandomForestClassifier()))])\n",
    "    print(cross_val_score(pipeline, train_data.comment_text, train_data[label_cols], cv=5, n_jobs=4))\n",
    "\n",
    "    end = time.time()\n",
    "\n",
    "    return end - start\n",
    "\n",
    "# try_random_forest()"
   ]
  },
  {
   "cell_type": "markdown",
   "metadata": {},
   "source": [
    "```[ 0.89613035  0.89875917  0.89825782  0.89882183  0.89850849]\n",
    "Out[18]:\n",
    "1475.0570828914642```"
   ]
  },
  {
   "cell_type": "markdown",
   "metadata": {},
   "source": [
    "Това е прекалено много и нямам време в момента да го чакам. Предполагам, че дори с малко увеличение на дурветата, ще даде по-добри резултати, но поради ред обстоятелства ще го оставя за по-късно."
   ]
  },
  {
   "cell_type": "code",
   "execution_count": 8,
   "metadata": {},
   "outputs": [
    {
     "name": "stdout",
     "output_type": "stream",
     "text": [
      "CountVectorizer + MultinomialNB\n",
      "Fitting 5 folds for each of 11 candidates, totalling 55 fits\n"
     ]
    },
    {
     "name": "stderr",
     "output_type": "stream",
     "text": [
      "[Parallel(n_jobs=4)]: Done  42 tasks      | elapsed: 12.2min\n",
      "[Parallel(n_jobs=4)]: Done  55 out of  55 | elapsed: 15.3min finished\n"
     ]
    },
    {
     "name": "stdout",
     "output_type": "stream",
     "text": [
      "Model with rank: 1\n",
      "Mean validation score: 0.908 (std: 0.001)\n",
      "Parameters: {'clf__estimator__alpha': 0.50000000000000011, 'vec__analyzer': 'word', 'vec__lowercase': True, 'vec__ngram_range': (1, 2), 'vec__stop_words': 'english', 'vec__token_pattern': \"'?\\\\b[0-9A-Za-z'-]+\\\\b'?\"}\n",
      "\n",
      "Model with rank: 2\n",
      "Mean validation score: 0.907 (std: 0.001)\n",
      "Parameters: {'clf__estimator__alpha': 0.70000000000000007, 'vec__analyzer': 'word', 'vec__lowercase': True, 'vec__ngram_range': (1, 2), 'vec__stop_words': 'english', 'vec__token_pattern': \"'?\\\\b[0-9A-Za-z'-]+\\\\b'?\"}\n",
      "\n",
      "Model with rank: 3\n",
      "Mean validation score: 0.907 (std: 0.001)\n",
      "Parameters: {'clf__estimator__alpha': 0.30000000000000004, 'vec__analyzer': 'word', 'vec__lowercase': True, 'vec__ngram_range': (1, 2), 'vec__stop_words': 'english', 'vec__token_pattern': \"'?\\\\b[0-9A-Za-z'-]+\\\\b'?\"}\n",
      "\n",
      "Model with rank: 4\n",
      "Mean validation score: 0.907 (std: 0.001)\n",
      "Parameters: {'clf__estimator__alpha': 0.90000000000000013, 'vec__analyzer': 'word', 'vec__lowercase': True, 'vec__ngram_range': (1, 2), 'vec__stop_words': 'english', 'vec__token_pattern': \"'?\\\\b[0-9A-Za-z'-]+\\\\b'?\"}\n",
      "\n",
      "Model with rank: 5\n",
      "Mean validation score: 0.906 (std: 0.001)\n",
      "Parameters: {'clf__estimator__alpha': 1.1000000000000003, 'vec__analyzer': 'word', 'vec__lowercase': True, 'vec__ngram_range': (1, 2), 'vec__stop_words': 'english', 'vec__token_pattern': \"'?\\\\b[0-9A-Za-z'-]+\\\\b'?\"}\n",
      "\n",
      "CountVectorizer + LinearSVC\n",
      "Fitting 5 folds for each of 11 candidates, totalling 55 fits\n"
     ]
    },
    {
     "name": "stderr",
     "output_type": "stream",
     "text": [
      "[Parallel(n_jobs=4)]: Done  42 tasks      | elapsed: 55.8min\n",
      "[Parallel(n_jobs=4)]: Done  55 out of  55 | elapsed: 77.4min finished\n"
     ]
    },
    {
     "name": "stdout",
     "output_type": "stream",
     "text": [
      "Model with rank: 1\n",
      "Mean validation score: 0.915 (std: 0.001)\n",
      "Parameters: {'clf__estimator__C': 0.10000000000000001, 'vec__analyzer': 'word', 'vec__lowercase': True, 'vec__ngram_range': (1, 2), 'vec__stop_words': 'english', 'vec__token_pattern': \"'?\\\\b[0-9A-Za-z'-]+\\\\b'?\"}\n",
      "\n",
      "Model with rank: 2\n",
      "Mean validation score: 0.914 (std: 0.002)\n",
      "Parameters: {'clf__estimator__C': 0.30000000000000004, 'vec__analyzer': 'word', 'vec__lowercase': True, 'vec__ngram_range': (1, 2), 'vec__stop_words': 'english', 'vec__token_pattern': \"'?\\\\b[0-9A-Za-z'-]+\\\\b'?\"}\n",
      "\n",
      "Model with rank: 3\n",
      "Mean validation score: 0.913 (std: 0.002)\n",
      "Parameters: {'clf__estimator__C': 0.50000000000000011, 'vec__analyzer': 'word', 'vec__lowercase': True, 'vec__ngram_range': (1, 2), 'vec__stop_words': 'english', 'vec__token_pattern': \"'?\\\\b[0-9A-Za-z'-]+\\\\b'?\"}\n",
      "\n",
      "Model with rank: 4\n",
      "Mean validation score: 0.913 (std: 0.002)\n",
      "Parameters: {'clf__estimator__C': 0.70000000000000007, 'vec__analyzer': 'word', 'vec__lowercase': True, 'vec__ngram_range': (1, 2), 'vec__stop_words': 'english', 'vec__token_pattern': \"'?\\\\b[0-9A-Za-z'-]+\\\\b'?\"}\n",
      "\n",
      "Model with rank: 5\n",
      "Mean validation score: 0.912 (std: 0.002)\n",
      "Parameters: {'clf__estimator__C': 0.90000000000000013, 'vec__analyzer': 'word', 'vec__lowercase': True, 'vec__ngram_range': (1, 2), 'vec__stop_words': 'english', 'vec__token_pattern': \"'?\\\\b[0-9A-Za-z'-]+\\\\b'?\"}\n",
      "\n",
      "CountVectorizer + SVC\n",
      "Fitting 5 folds for each of 11 candidates, totalling 55 fits\n"
     ]
    },
    {
     "ename": "KeyboardInterrupt",
     "evalue": "",
     "output_type": "error",
     "traceback": [
      "\u001b[0;31m---------------------------------------------------------------------------\u001b[0m",
      "\u001b[0;31mKeyboardInterrupt\u001b[0m                         Traceback (most recent call last)",
      "\u001b[0;32m<ipython-input-8-b5218c02c38e>\u001b[0m in \u001b[0;36m<module>\u001b[0;34m()\u001b[0m\n\u001b[1;32m     55\u001b[0m             \u001b[0mverbose\u001b[0m\u001b[0;34m=\u001b[0m\u001b[0;36m1\u001b[0m\u001b[0;34m\u001b[0m\u001b[0m\n\u001b[1;32m     56\u001b[0m         )\n\u001b[0;32m---> 57\u001b[0;31m         \u001b[0mgrid_search\u001b[0m\u001b[0;34m.\u001b[0m\u001b[0mfit\u001b[0m\u001b[0;34m(\u001b[0m\u001b[0mtrain_data\u001b[0m\u001b[0;34m.\u001b[0m\u001b[0mcomment_text\u001b[0m\u001b[0;34m,\u001b[0m \u001b[0mtrain_data\u001b[0m\u001b[0;34m[\u001b[0m\u001b[0mlabel_cols\u001b[0m\u001b[0;34m]\u001b[0m\u001b[0;34m)\u001b[0m\u001b[0;34m\u001b[0m\u001b[0m\n\u001b[0m\u001b[1;32m     58\u001b[0m         \u001b[0mreport\u001b[0m\u001b[0;34m(\u001b[0m\u001b[0mgrid_search\u001b[0m\u001b[0;34m.\u001b[0m\u001b[0mcv_results_\u001b[0m\u001b[0;34m)\u001b[0m\u001b[0;34m\u001b[0m\u001b[0m\n\u001b[1;32m     59\u001b[0m \u001b[0;34m\u001b[0m\u001b[0m\n",
      "\u001b[0;32m~/.virtualenvs/machine-learning/lib/python3.6/site-packages/sklearn/model_selection/_search.py\u001b[0m in \u001b[0;36mfit\u001b[0;34m(self, X, y, groups, **fit_params)\u001b[0m\n\u001b[1;32m    636\u001b[0m                                   error_score=self.error_score)\n\u001b[1;32m    637\u001b[0m           for parameters, (train, test) in product(candidate_params,\n\u001b[0;32m--> 638\u001b[0;31m                                                    cv.split(X, y, groups)))\n\u001b[0m\u001b[1;32m    639\u001b[0m \u001b[0;34m\u001b[0m\u001b[0m\n\u001b[1;32m    640\u001b[0m         \u001b[0;31m# if one choose to see train score, \"out\" will contain train score info\u001b[0m\u001b[0;34m\u001b[0m\u001b[0;34m\u001b[0m\u001b[0m\n",
      "\u001b[0;32m~/.virtualenvs/machine-learning/lib/python3.6/site-packages/sklearn/externals/joblib/parallel.py\u001b[0m in \u001b[0;36m__call__\u001b[0;34m(self, iterable)\u001b[0m\n\u001b[1;32m    787\u001b[0m                 \u001b[0;31m# consumption.\u001b[0m\u001b[0;34m\u001b[0m\u001b[0;34m\u001b[0m\u001b[0m\n\u001b[1;32m    788\u001b[0m                 \u001b[0mself\u001b[0m\u001b[0;34m.\u001b[0m\u001b[0m_iterating\u001b[0m \u001b[0;34m=\u001b[0m \u001b[0;32mFalse\u001b[0m\u001b[0;34m\u001b[0m\u001b[0m\n\u001b[0;32m--> 789\u001b[0;31m             \u001b[0mself\u001b[0m\u001b[0;34m.\u001b[0m\u001b[0mretrieve\u001b[0m\u001b[0;34m(\u001b[0m\u001b[0;34m)\u001b[0m\u001b[0;34m\u001b[0m\u001b[0m\n\u001b[0m\u001b[1;32m    790\u001b[0m             \u001b[0;31m# Make sure that we get a last message telling us we are done\u001b[0m\u001b[0;34m\u001b[0m\u001b[0;34m\u001b[0m\u001b[0m\n\u001b[1;32m    791\u001b[0m             \u001b[0melapsed_time\u001b[0m \u001b[0;34m=\u001b[0m \u001b[0mtime\u001b[0m\u001b[0;34m.\u001b[0m\u001b[0mtime\u001b[0m\u001b[0;34m(\u001b[0m\u001b[0;34m)\u001b[0m \u001b[0;34m-\u001b[0m \u001b[0mself\u001b[0m\u001b[0;34m.\u001b[0m\u001b[0m_start_time\u001b[0m\u001b[0;34m\u001b[0m\u001b[0m\n",
      "\u001b[0;32m~/.virtualenvs/machine-learning/lib/python3.6/site-packages/sklearn/externals/joblib/parallel.py\u001b[0m in \u001b[0;36mretrieve\u001b[0;34m(self)\u001b[0m\n\u001b[1;32m    697\u001b[0m             \u001b[0;32mtry\u001b[0m\u001b[0;34m:\u001b[0m\u001b[0;34m\u001b[0m\u001b[0m\n\u001b[1;32m    698\u001b[0m                 \u001b[0;32mif\u001b[0m \u001b[0mgetattr\u001b[0m\u001b[0;34m(\u001b[0m\u001b[0mself\u001b[0m\u001b[0;34m.\u001b[0m\u001b[0m_backend\u001b[0m\u001b[0;34m,\u001b[0m \u001b[0;34m'supports_timeout'\u001b[0m\u001b[0;34m,\u001b[0m \u001b[0;32mFalse\u001b[0m\u001b[0;34m)\u001b[0m\u001b[0;34m:\u001b[0m\u001b[0;34m\u001b[0m\u001b[0m\n\u001b[0;32m--> 699\u001b[0;31m                     \u001b[0mself\u001b[0m\u001b[0;34m.\u001b[0m\u001b[0m_output\u001b[0m\u001b[0;34m.\u001b[0m\u001b[0mextend\u001b[0m\u001b[0;34m(\u001b[0m\u001b[0mjob\u001b[0m\u001b[0;34m.\u001b[0m\u001b[0mget\u001b[0m\u001b[0;34m(\u001b[0m\u001b[0mtimeout\u001b[0m\u001b[0;34m=\u001b[0m\u001b[0mself\u001b[0m\u001b[0;34m.\u001b[0m\u001b[0mtimeout\u001b[0m\u001b[0;34m)\u001b[0m\u001b[0;34m)\u001b[0m\u001b[0;34m\u001b[0m\u001b[0m\n\u001b[0m\u001b[1;32m    700\u001b[0m                 \u001b[0;32melse\u001b[0m\u001b[0;34m:\u001b[0m\u001b[0;34m\u001b[0m\u001b[0m\n\u001b[1;32m    701\u001b[0m                     \u001b[0mself\u001b[0m\u001b[0;34m.\u001b[0m\u001b[0m_output\u001b[0m\u001b[0;34m.\u001b[0m\u001b[0mextend\u001b[0m\u001b[0;34m(\u001b[0m\u001b[0mjob\u001b[0m\u001b[0;34m.\u001b[0m\u001b[0mget\u001b[0m\u001b[0;34m(\u001b[0m\u001b[0;34m)\u001b[0m\u001b[0;34m)\u001b[0m\u001b[0;34m\u001b[0m\u001b[0m\n",
      "\u001b[0;32m/usr/lib/python3.6/multiprocessing/pool.py\u001b[0m in \u001b[0;36mget\u001b[0;34m(self, timeout)\u001b[0m\n\u001b[1;32m    636\u001b[0m \u001b[0;34m\u001b[0m\u001b[0m\n\u001b[1;32m    637\u001b[0m     \u001b[0;32mdef\u001b[0m \u001b[0mget\u001b[0m\u001b[0;34m(\u001b[0m\u001b[0mself\u001b[0m\u001b[0;34m,\u001b[0m \u001b[0mtimeout\u001b[0m\u001b[0;34m=\u001b[0m\u001b[0;32mNone\u001b[0m\u001b[0;34m)\u001b[0m\u001b[0;34m:\u001b[0m\u001b[0;34m\u001b[0m\u001b[0m\n\u001b[0;32m--> 638\u001b[0;31m         \u001b[0mself\u001b[0m\u001b[0;34m.\u001b[0m\u001b[0mwait\u001b[0m\u001b[0;34m(\u001b[0m\u001b[0mtimeout\u001b[0m\u001b[0;34m)\u001b[0m\u001b[0;34m\u001b[0m\u001b[0m\n\u001b[0m\u001b[1;32m    639\u001b[0m         \u001b[0;32mif\u001b[0m \u001b[0;32mnot\u001b[0m \u001b[0mself\u001b[0m\u001b[0;34m.\u001b[0m\u001b[0mready\u001b[0m\u001b[0;34m(\u001b[0m\u001b[0;34m)\u001b[0m\u001b[0;34m:\u001b[0m\u001b[0;34m\u001b[0m\u001b[0m\n\u001b[1;32m    640\u001b[0m             \u001b[0;32mraise\u001b[0m \u001b[0mTimeoutError\u001b[0m\u001b[0;34m\u001b[0m\u001b[0m\n",
      "\u001b[0;32m/usr/lib/python3.6/multiprocessing/pool.py\u001b[0m in \u001b[0;36mwait\u001b[0;34m(self, timeout)\u001b[0m\n\u001b[1;32m    633\u001b[0m \u001b[0;34m\u001b[0m\u001b[0m\n\u001b[1;32m    634\u001b[0m     \u001b[0;32mdef\u001b[0m \u001b[0mwait\u001b[0m\u001b[0;34m(\u001b[0m\u001b[0mself\u001b[0m\u001b[0;34m,\u001b[0m \u001b[0mtimeout\u001b[0m\u001b[0;34m=\u001b[0m\u001b[0;32mNone\u001b[0m\u001b[0;34m)\u001b[0m\u001b[0;34m:\u001b[0m\u001b[0;34m\u001b[0m\u001b[0m\n\u001b[0;32m--> 635\u001b[0;31m         \u001b[0mself\u001b[0m\u001b[0;34m.\u001b[0m\u001b[0m_event\u001b[0m\u001b[0;34m.\u001b[0m\u001b[0mwait\u001b[0m\u001b[0;34m(\u001b[0m\u001b[0mtimeout\u001b[0m\u001b[0;34m)\u001b[0m\u001b[0;34m\u001b[0m\u001b[0m\n\u001b[0m\u001b[1;32m    636\u001b[0m \u001b[0;34m\u001b[0m\u001b[0m\n\u001b[1;32m    637\u001b[0m     \u001b[0;32mdef\u001b[0m \u001b[0mget\u001b[0m\u001b[0;34m(\u001b[0m\u001b[0mself\u001b[0m\u001b[0;34m,\u001b[0m \u001b[0mtimeout\u001b[0m\u001b[0;34m=\u001b[0m\u001b[0;32mNone\u001b[0m\u001b[0;34m)\u001b[0m\u001b[0;34m:\u001b[0m\u001b[0;34m\u001b[0m\u001b[0m\n",
      "\u001b[0;32m/usr/lib/python3.6/threading.py\u001b[0m in \u001b[0;36mwait\u001b[0;34m(self, timeout)\u001b[0m\n\u001b[1;32m    549\u001b[0m             \u001b[0msignaled\u001b[0m \u001b[0;34m=\u001b[0m \u001b[0mself\u001b[0m\u001b[0;34m.\u001b[0m\u001b[0m_flag\u001b[0m\u001b[0;34m\u001b[0m\u001b[0m\n\u001b[1;32m    550\u001b[0m             \u001b[0;32mif\u001b[0m \u001b[0;32mnot\u001b[0m \u001b[0msignaled\u001b[0m\u001b[0;34m:\u001b[0m\u001b[0;34m\u001b[0m\u001b[0m\n\u001b[0;32m--> 551\u001b[0;31m                 \u001b[0msignaled\u001b[0m \u001b[0;34m=\u001b[0m \u001b[0mself\u001b[0m\u001b[0;34m.\u001b[0m\u001b[0m_cond\u001b[0m\u001b[0;34m.\u001b[0m\u001b[0mwait\u001b[0m\u001b[0;34m(\u001b[0m\u001b[0mtimeout\u001b[0m\u001b[0;34m)\u001b[0m\u001b[0;34m\u001b[0m\u001b[0m\n\u001b[0m\u001b[1;32m    552\u001b[0m             \u001b[0;32mreturn\u001b[0m \u001b[0msignaled\u001b[0m\u001b[0;34m\u001b[0m\u001b[0m\n\u001b[1;32m    553\u001b[0m \u001b[0;34m\u001b[0m\u001b[0m\n",
      "\u001b[0;32m/usr/lib/python3.6/threading.py\u001b[0m in \u001b[0;36mwait\u001b[0;34m(self, timeout)\u001b[0m\n\u001b[1;32m    293\u001b[0m         \u001b[0;32mtry\u001b[0m\u001b[0;34m:\u001b[0m    \u001b[0;31m# restore state no matter what (e.g., KeyboardInterrupt)\u001b[0m\u001b[0;34m\u001b[0m\u001b[0m\n\u001b[1;32m    294\u001b[0m             \u001b[0;32mif\u001b[0m \u001b[0mtimeout\u001b[0m \u001b[0;32mis\u001b[0m \u001b[0;32mNone\u001b[0m\u001b[0;34m:\u001b[0m\u001b[0;34m\u001b[0m\u001b[0m\n\u001b[0;32m--> 295\u001b[0;31m                 \u001b[0mwaiter\u001b[0m\u001b[0;34m.\u001b[0m\u001b[0macquire\u001b[0m\u001b[0;34m(\u001b[0m\u001b[0;34m)\u001b[0m\u001b[0;34m\u001b[0m\u001b[0m\n\u001b[0m\u001b[1;32m    296\u001b[0m                 \u001b[0mgotit\u001b[0m \u001b[0;34m=\u001b[0m \u001b[0;32mTrue\u001b[0m\u001b[0;34m\u001b[0m\u001b[0m\n\u001b[1;32m    297\u001b[0m             \u001b[0;32melse\u001b[0m\u001b[0;34m:\u001b[0m\u001b[0;34m\u001b[0m\u001b[0m\n",
      "\u001b[0;31mKeyboardInterrupt\u001b[0m: "
     ]
    }
   ],
   "source": [
    "from sklearn.feature_extraction.text import TfidfVectorizer, CountVectorizer\n",
    "from sklearn.pipeline import Pipeline\n",
    "from sklearn.model_selection import cross_val_score, GridSearchCV\n",
    "from sklearn.naive_bayes import MultinomialNB\n",
    "from sklearn.ensemble import RandomForestClassifier\n",
    "from sklearn.svm import LinearSVC, SVC\n",
    "from sklearn.multioutput import MultiOutputClassifier\n",
    "\n",
    "\n",
    "count_vec_params = {\n",
    "    'vec__ngram_range': [(1,2)],\n",
    "    'vec__lowercase': [True],\n",
    "    'vec__analyzer': ['word'],\n",
    "    'vec__token_pattern': [r\"'?\\b[0-9A-Za-z'-]+\\b'?\"],\n",
    "    'vec__stop_words': ['english'],\n",
    "}\n",
    "tfidf_params = count_vec_params.copy().update({\n",
    "    'vec__use_idf': [True],\n",
    "    'vec__smooth_idf': [True],\n",
    "    'vec__sublinear_tf': [True]\n",
    "})\n",
    "\n",
    "vec_params = {\n",
    "    CountVectorizer: count_vec_params,\n",
    "    TfidfVectorizer: tfidf_params\n",
    "}\n",
    "\n",
    "hyper_parameter_values = list(np.arange(0.1, 1.5, 0.2)) + list(range(2, 10, 2))\n",
    "\n",
    "clf_params = {\n",
    "    MultinomialNB: {'clf__estimator__alpha': hyper_parameter_values},\n",
    "    LinearSVC: {'clf__estimator__C': hyper_parameter_values},\n",
    "    SVC: {'clf__estimator__C': hyper_parameter_values}\n",
    "}\n",
    "\n",
    "\n",
    "results = []\n",
    "\n",
    "for vec in vec_params.keys():\n",
    "    for clf in clf_params.keys():\n",
    "        print(f'{vec.__name__} + {clf.__name__}')\n",
    "        params = vec_params[vec].copy()\n",
    "        params.update(clf_params[clf])\n",
    "\n",
    "        pipeline = Pipeline([\n",
    "            ('vec', vec()),\n",
    "            ('clf', MultiOutputClassifier(clf()))\n",
    "        ])\n",
    "\n",
    "        grid_search = GridSearchCV(\n",
    "            pipeline,\n",
    "            param_grid=params,\n",
    "            cv=5,\n",
    "            n_jobs=4,\n",
    "            verbose=1\n",
    "        )\n",
    "        grid_search.fit(train_data.comment_text, train_data[label_cols])\n",
    "        report(grid_search.cv_results_)\n",
    "        \n",
    "        results.append((grid_search.best_score_, grid_search.best_params_))\n",
    "        \n",
    "sorted(results, reverse=True, key=lambda res: res[0])"
   ]
  },
  {
   "cell_type": "markdown",
   "metadata": {},
   "source": [
    "`CountVectorizer` + `SVC` не намери решение повече 8 часа... Засега ще се спра на горните резултати. Ще изпробваме и какво ще се получи, с TFIDF. Според статията, трябва да имаме подобрение."
   ]
  },
  {
   "cell_type": "code",
   "execution_count": 13,
   "metadata": {},
   "outputs": [
    {
     "name": "stdout",
     "output_type": "stream",
     "text": [
      "Model with rank: 1\n",
      "Mean validation score: 0.904 (std: 0.001)\n",
      "Parameters: {'clf__estimator__alpha': 0.1, 'vec__analyzer': 'word', 'vec__lowercase': True, 'vec__ngram_range': (1, 2), 'vec__smooth_idf': True, 'vec__stop_words': 'english', 'vec__sublinear_tf': True, 'vec__token_pattern': \"'?\\\\b[0-9A-Za-z'-]+\\\\b'?\", 'vec__use_idf': True}\n",
      "\n",
      "Model with rank: 2\n",
      "Mean validation score: 0.900 (std: 0.001)\n",
      "Parameters: {'clf__estimator__alpha': 0.30000000000000004, 'vec__analyzer': 'word', 'vec__lowercase': True, 'vec__ngram_range': (1, 2), 'vec__smooth_idf': True, 'vec__stop_words': 'english', 'vec__sublinear_tf': True, 'vec__token_pattern': \"'?\\\\b[0-9A-Za-z'-]+\\\\b'?\", 'vec__use_idf': True}\n",
      "\n",
      "Model with rank: 3\n",
      "Mean validation score: 0.899 (std: 0.001)\n",
      "Parameters: {'clf__estimator__alpha': 0.5000000000000001, 'vec__analyzer': 'word', 'vec__lowercase': True, 'vec__ngram_range': (1, 2), 'vec__smooth_idf': True, 'vec__stop_words': 'english', 'vec__sublinear_tf': True, 'vec__token_pattern': \"'?\\\\b[0-9A-Za-z'-]+\\\\b'?\", 'vec__use_idf': True}\n",
      "\n",
      "Model with rank: 4\n",
      "Mean validation score: 0.899 (std: 0.001)\n",
      "Parameters: {'clf__estimator__alpha': 0.7000000000000001, 'vec__analyzer': 'word', 'vec__lowercase': True, 'vec__ngram_range': (1, 2), 'vec__smooth_idf': True, 'vec__stop_words': 'english', 'vec__sublinear_tf': True, 'vec__token_pattern': \"'?\\\\b[0-9A-Za-z'-]+\\\\b'?\", 'vec__use_idf': True}\n",
      "\n",
      "Model with rank: 5\n",
      "Mean validation score: 0.899 (std: 0.001)\n",
      "Parameters: {'clf__estimator__alpha': 0.9000000000000001, 'vec__analyzer': 'word', 'vec__lowercase': True, 'vec__ngram_range': (1, 2), 'vec__smooth_idf': True, 'vec__stop_words': 'english', 'vec__sublinear_tf': True, 'vec__token_pattern': \"'?\\\\b[0-9A-Za-z'-]+\\\\b'?\", 'vec__use_idf': True}\n",
      "\n"
     ]
    }
   ],
   "source": [
    "from sklearn.feature_extraction.text import TfidfVectorizer\n",
    "from sklearn.pipeline import Pipeline\n",
    "from sklearn.model_selection import GridSearchCV\n",
    "from sklearn.naive_bayes import MultinomialNB\n",
    "from sklearn.multioutput import MultiOutputClassifier\n",
    "\n",
    "\n",
    "# pipeline = Pipeline([('vec', CountVectorizer()), ('clf', MultiOutputClassifier(MultinomialNB()))])\n",
    "# print(cross_val_score(pipeline, train_data.comment_text, train_data[label_cols], cv=5, n_jobs=4))\n",
    "\n",
    "hyper_parameter_values = list(np.arange(0.1, 1.5, 0.2)) + list(range(2, 10, 2))\n",
    "\n",
    "params = {\n",
    "    'vec__ngram_range': [(1,2)],\n",
    "    'vec__lowercase': [True],\n",
    "    'vec__analyzer': ['word'],\n",
    "    'vec__token_pattern': [r\"'?\\b[0-9A-Za-z'-]+\\b'?\"],\n",
    "    'vec__stop_words': ['english'],\n",
    "    'vec__use_idf': [True],\n",
    "    'vec__smooth_idf': [True],\n",
    "    'vec__sublinear_tf': [True]\n",
    "}\n",
    "\n",
    "params.update({'clf__estimator__alpha': hyper_parameter_values})\n",
    "\n",
    "pipeline = Pipeline([\n",
    "    ('vec', TfidfVectorizer()),\n",
    "    ('clf', MultiOutputClassifier(MultinomialNB()))\n",
    "])\n",
    "\n",
    "grid_search = GridSearchCV(\n",
    "    pipeline,\n",
    "    param_grid=params,\n",
    "    cv=5,\n",
    "    n_jobs=4,\n",
    ")\n",
    "grid_search.fit(train_data.comment_text, train_data[label_cols])\n",
    "report(grid_search.cv_results_)"
   ]
  },
  {
   "cell_type": "markdown",
   "metadata": {},
   "source": [
    "Тука виждам, че имам значително подобрение към 0.1, което ми се явява граница. Прабвах и с по-малки стойности (0.01 и 0.001), но нямаше значително подобрение."
   ]
  },
  {
   "cell_type": "code",
   "execution_count": 16,
   "metadata": {},
   "outputs": [
    {
     "name": "stdout",
     "output_type": "stream",
     "text": [
      "Fitting 5 folds for each of 11 candidates, totalling 55 fits\n"
     ]
    },
    {
     "name": "stderr",
     "output_type": "stream",
     "text": [
      "[Parallel(n_jobs=4)]: Done  42 tasks      | elapsed: 16.5min\n",
      "[Parallel(n_jobs=4)]: Done  55 out of  55 | elapsed: 24.3min finished\n"
     ]
    },
    {
     "name": "stdout",
     "output_type": "stream",
     "text": [
      "Model with rank: 1\n",
      "Mean validation score: 0.920 (std: 0.001)\n",
      "Parameters: {'clf__estimator__C': 0.30000000000000004, 'vec__analyzer': 'word', 'vec__lowercase': True, 'vec__ngram_range': (1, 2), 'vec__smooth_idf': True, 'vec__stop_words': 'english', 'vec__sublinear_tf': True, 'vec__token_pattern': \"'?\\\\b[0-9A-Za-z'-]+\\\\b'?\", 'vec__use_idf': True}\n",
      "\n",
      "Model with rank: 2\n",
      "Mean validation score: 0.920 (std: 0.001)\n",
      "Parameters: {'clf__estimator__C': 0.50000000000000011, 'vec__analyzer': 'word', 'vec__lowercase': True, 'vec__ngram_range': (1, 2), 'vec__smooth_idf': True, 'vec__stop_words': 'english', 'vec__sublinear_tf': True, 'vec__token_pattern': \"'?\\\\b[0-9A-Za-z'-]+\\\\b'?\", 'vec__use_idf': True}\n",
      "\n",
      "Model with rank: 3\n",
      "Mean validation score: 0.919 (std: 0.001)\n",
      "Parameters: {'clf__estimator__C': 0.70000000000000007, 'vec__analyzer': 'word', 'vec__lowercase': True, 'vec__ngram_range': (1, 2), 'vec__smooth_idf': True, 'vec__stop_words': 'english', 'vec__sublinear_tf': True, 'vec__token_pattern': \"'?\\\\b[0-9A-Za-z'-]+\\\\b'?\", 'vec__use_idf': True}\n",
      "\n",
      "Model with rank: 4\n",
      "Mean validation score: 0.919 (std: 0.001)\n",
      "Parameters: {'clf__estimator__C': 0.90000000000000013, 'vec__analyzer': 'word', 'vec__lowercase': True, 'vec__ngram_range': (1, 2), 'vec__smooth_idf': True, 'vec__stop_words': 'english', 'vec__sublinear_tf': True, 'vec__token_pattern': \"'?\\\\b[0-9A-Za-z'-]+\\\\b'?\", 'vec__use_idf': True}\n",
      "\n",
      "Model with rank: 5\n",
      "Mean validation score: 0.918 (std: 0.001)\n",
      "Parameters: {'clf__estimator__C': 1.1000000000000003, 'vec__analyzer': 'word', 'vec__lowercase': True, 'vec__ngram_range': (1, 2), 'vec__smooth_idf': True, 'vec__stop_words': 'english', 'vec__sublinear_tf': True, 'vec__token_pattern': \"'?\\\\b[0-9A-Za-z'-]+\\\\b'?\", 'vec__use_idf': True}\n",
      "\n"
     ]
    }
   ],
   "source": [
    "from sklearn.feature_extraction.text import TfidfVectorizer\n",
    "from sklearn.pipeline import Pipeline\n",
    "from sklearn.model_selection import GridSearchCV\n",
    "from sklearn.svm import LinearSVC\n",
    "from sklearn.multioutput import MultiOutputClassifier\n",
    "\n",
    "params = {\n",
    "    'vec__ngram_range': [(1,2)],\n",
    "    'vec__lowercase': [True],\n",
    "    'vec__analyzer': ['word'],\n",
    "    'vec__token_pattern': [r\"'?\\b[0-9A-Za-z'-]+\\b'?\"],\n",
    "    'vec__stop_words': ['english'],\n",
    "    'vec__use_idf': [True],\n",
    "    'vec__smooth_idf': [True],\n",
    "    'vec__sublinear_tf': [True]\n",
    "}\n",
    "\n",
    "hyper_parameter_values = list(np.arange(0.1, 1.5, 0.2)) + list(range(2, 10, 2))\n",
    "\n",
    "params.update({'clf__estimator__C': hyper_parameter_values})\n",
    "\n",
    "pipeline = Pipeline([\n",
    "    ('vec', TfidfVectorizer()),\n",
    "    ('clf', MultiOutputClassifier(LinearSVC()))\n",
    "])\n",
    "\n",
    "grid_search = GridSearchCV(\n",
    "    pipeline,\n",
    "    param_grid=params,\n",
    "    cv=5,\n",
    "    n_jobs=4,\n",
    "    verbose=1\n",
    ")\n",
    "grid_search.fit(train_data.comment_text, train_data[label_cols])\n",
    "report(grid_search.cv_results_)"
   ]
  },
  {
   "cell_type": "markdown",
   "metadata": {},
   "source": [
    "Естествено, с последния вариант имаме победител. Докато чаках резултатите, се сетих, че не взимам под внимание нещо, което може да подобри модела ми. regex-a, който използваме за токенизация, в моменра хваща само думи (и такива с апострофи). Когато хората пишат токсични коментари, те често използват **последователности от препинателни знаци**. Например `.........`, `!?!?!?!!` или различни емотиконки."
   ]
  },
  {
   "cell_type": "code",
   "execution_count": 31,
   "metadata": {},
   "outputs": [
    {
     "name": "stdout",
     "output_type": "stream",
     "text": [
      "vanished article question \n",
      "\n",
      "hi! i'm new here and i wanna ask you a question, there was a long article here yesterday Kinkeshi but i checked it today and the article has just disappeared!! do you know what happened to it? thanks! )\n"
     ]
    },
    {
     "data": {
      "text/plain": [
       "['vanished',\n",
       " 'article',\n",
       " 'question',\n",
       " 'hi',\n",
       " '!',\n",
       " \"i'm\",\n",
       " 'new',\n",
       " 'here',\n",
       " 'and',\n",
       " 'i',\n",
       " 'wanna',\n",
       " 'ask',\n",
       " 'you',\n",
       " 'a',\n",
       " 'question',\n",
       " ',',\n",
       " 'there',\n",
       " 'was',\n",
       " 'a',\n",
       " 'long',\n",
       " 'article',\n",
       " 'here',\n",
       " 'yesterday',\n",
       " 'Kinkeshi',\n",
       " 'but',\n",
       " 'i',\n",
       " 'checked',\n",
       " 'it',\n",
       " 'today',\n",
       " 'and',\n",
       " 'the',\n",
       " 'article',\n",
       " 'has',\n",
       " 'just',\n",
       " 'disappeared',\n",
       " '!!',\n",
       " 'do',\n",
       " 'you',\n",
       " 'know',\n",
       " 'what',\n",
       " 'happened',\n",
       " 'to',\n",
       " 'it',\n",
       " '?',\n",
       " 'thanks',\n",
       " '!',\n",
       " ')']"
      ]
     },
     "execution_count": 31,
     "metadata": {},
     "output_type": "execute_result"
    }
   ],
   "source": [
    "from nltk.tokenize import RegexpTokenizer\n",
    "import string\n",
    "\n",
    "tokenizer = RegexpTokenizer(rf\"'?\\b[0-9A-Za-z'-]+\\b'?|[{string.punctuation}]+\")\n",
    "test_str = train_data.sample(1)['comment_text'][0]\n",
    "print(test_str)\n",
    "tokenizer.tokenize(test_str)"
   ]
  },
  {
   "cell_type": "markdown",
   "metadata": {},
   "source": [
    "**Перфектно!** Ще пробвам последния вариант, за да видим дали ще имаме по-добър резултат.\n",
    "\n",
    "*f-strings <3*"
   ]
  },
  {
   "cell_type": "code",
   "execution_count": 32,
   "metadata": {},
   "outputs": [
    {
     "name": "stdout",
     "output_type": "stream",
     "text": [
      "Fitting 5 folds for each of 11 candidates, totalling 55 fits\n"
     ]
    },
    {
     "name": "stderr",
     "output_type": "stream",
     "text": [
      "[Parallel(n_jobs=4)]: Done  42 tasks      | elapsed: 21.2min\n",
      "[Parallel(n_jobs=4)]: Done  55 out of  55 | elapsed: 30.4min finished\n"
     ]
    },
    {
     "name": "stdout",
     "output_type": "stream",
     "text": [
      "Model with rank: 1\n",
      "Mean validation score: 0.920 (std: 0.001)\n",
      "Parameters: {'clf__estimator__C': 0.30000000000000004, 'vec__analyzer': 'word', 'vec__lowercase': True, 'vec__ngram_range': (1, 2), 'vec__smooth_idf': True, 'vec__stop_words': 'english', 'vec__sublinear_tf': True, 'vec__token_pattern': '\\'?\\\\b[0-9A-Za-z\\'-]+\\\\b\\'?|[!\"#$%&\\'()*+,-./:;<=>?@[\\\\]^_`{|}~]+', 'vec__use_idf': True}\n",
      "\n",
      "Model with rank: 2\n",
      "Mean validation score: 0.920 (std: 0.001)\n",
      "Parameters: {'clf__estimator__C': 0.50000000000000011, 'vec__analyzer': 'word', 'vec__lowercase': True, 'vec__ngram_range': (1, 2), 'vec__smooth_idf': True, 'vec__stop_words': 'english', 'vec__sublinear_tf': True, 'vec__token_pattern': '\\'?\\\\b[0-9A-Za-z\\'-]+\\\\b\\'?|[!\"#$%&\\'()*+,-./:;<=>?@[\\\\]^_`{|}~]+', 'vec__use_idf': True}\n",
      "\n",
      "Model with rank: 3\n",
      "Mean validation score: 0.920 (std: 0.001)\n",
      "Parameters: {'clf__estimator__C': 0.70000000000000007, 'vec__analyzer': 'word', 'vec__lowercase': True, 'vec__ngram_range': (1, 2), 'vec__smooth_idf': True, 'vec__stop_words': 'english', 'vec__sublinear_tf': True, 'vec__token_pattern': '\\'?\\\\b[0-9A-Za-z\\'-]+\\\\b\\'?|[!\"#$%&\\'()*+,-./:;<=>?@[\\\\]^_`{|}~]+', 'vec__use_idf': True}\n",
      "\n",
      "Model with rank: 4\n",
      "Mean validation score: 0.919 (std: 0.001)\n",
      "Parameters: {'clf__estimator__C': 0.90000000000000013, 'vec__analyzer': 'word', 'vec__lowercase': True, 'vec__ngram_range': (1, 2), 'vec__smooth_idf': True, 'vec__stop_words': 'english', 'vec__sublinear_tf': True, 'vec__token_pattern': '\\'?\\\\b[0-9A-Za-z\\'-]+\\\\b\\'?|[!\"#$%&\\'()*+,-./:;<=>?@[\\\\]^_`{|}~]+', 'vec__use_idf': True}\n",
      "\n",
      "Model with rank: 5\n",
      "Mean validation score: 0.919 (std: 0.001)\n",
      "Parameters: {'clf__estimator__C': 1.1000000000000003, 'vec__analyzer': 'word', 'vec__lowercase': True, 'vec__ngram_range': (1, 2), 'vec__smooth_idf': True, 'vec__stop_words': 'english', 'vec__sublinear_tf': True, 'vec__token_pattern': '\\'?\\\\b[0-9A-Za-z\\'-]+\\\\b\\'?|[!\"#$%&\\'()*+,-./:;<=>?@[\\\\]^_`{|}~]+', 'vec__use_idf': True}\n",
      "\n"
     ]
    }
   ],
   "source": [
    "from sklearn.feature_extraction.text import TfidfVectorizer\n",
    "from sklearn.pipeline import Pipeline\n",
    "from sklearn.model_selection import GridSearchCV\n",
    "from sklearn.svm import LinearSVC\n",
    "from sklearn.multioutput import MultiOutputClassifier\n",
    "\n",
    "params = {\n",
    "    'vec__ngram_range': [(1,2)],\n",
    "    'vec__lowercase': [True],\n",
    "    'vec__analyzer': ['word'],\n",
    "    'vec__token_pattern': [rf\"'?\\b[0-9A-Za-z'-]+\\b'?|[{string.punctuation}]+\"],\n",
    "    'vec__stop_words': ['english'],\n",
    "    'vec__use_idf': [True],\n",
    "    'vec__smooth_idf': [True],\n",
    "    'vec__sublinear_tf': [True]\n",
    "}\n",
    "\n",
    "hyper_parameter_values = list(np.arange(0.1, 1.5, 0.2)) + list(range(2, 10, 2))\n",
    "\n",
    "params.update({'clf__estimator__C': hyper_parameter_values})\n",
    "\n",
    "pipeline = Pipeline([\n",
    "    ('vec', TfidfVectorizer()),\n",
    "    ('clf', MultiOutputClassifier(LinearSVC()))\n",
    "])\n",
    "\n",
    "grid_search = GridSearchCV(\n",
    "    pipeline,\n",
    "    param_grid=params,\n",
    "    cv=5,\n",
    "    n_jobs=4,\n",
    "    verbose=1\n",
    ")\n",
    "grid_search.fit(train_data.comment_text, train_data[label_cols])\n",
    "report(grid_search.cv_results_)"
   ]
  },
  {
   "cell_type": "markdown",
   "metadata": {},
   "source": [
    "Добре, новият регулярен израз е доста готин, но не ни помогна особено много в този случай, а и ни забави, което е ключово за оставащото ми време. Дойде време най-после да изпробвам NBSVM. Ще го пусна с TFIDF и да видим какво ще стане."
   ]
  },
  {
   "cell_type": "code",
   "execution_count": 38,
   "metadata": {},
   "outputs": [
    {
     "name": "stdout",
     "output_type": "stream",
     "text": [
      "[ 0.91944227  0.92047377  0.9214138   0.92100645  0.92119446]\n",
      "108.09142756462097\n"
     ]
    }
   ],
   "source": [
    "import time\n",
    "start = time.time()\n",
    "pipeline = Pipeline([('vec', TfidfVectorizer()), ('clf', MultiOutputClassifier(NBSVMClassifier()))])\n",
    "print(cross_val_score(pipeline, train_data.comment_text, train_data[label_cols], cv=5, n_jobs=4))\n",
    "end = time.time()\n",
    "print(end - start)"
   ]
  },
  {
   "cell_type": "code",
   "execution_count": 39,
   "metadata": {},
   "outputs": [
    {
     "name": "stdout",
     "output_type": "stream",
     "text": [
      "Fitting 5 folds for each of 11 candidates, totalling 55 fits\n"
     ]
    },
    {
     "name": "stderr",
     "output_type": "stream",
     "text": [
      "[Parallel(n_jobs=4)]: Done  42 tasks      | elapsed: 46.4min\n",
      "[Parallel(n_jobs=4)]: Done  55 out of  55 | elapsed: 62.5min finished\n"
     ]
    },
    {
     "name": "stdout",
     "output_type": "stream",
     "text": [
      "Model with rank: 1\n",
      "Mean validation score: 0.920 (std: 0.001)\n",
      "Parameters: {'clf__estimator__C': 0.90000000000000013, 'vec__analyzer': 'word', 'vec__lowercase': True, 'vec__ngram_range': (1, 2), 'vec__smooth_idf': True, 'vec__stop_words': 'english', 'vec__sublinear_tf': True, 'vec__token_pattern': \"'?\\\\b[0-9A-Za-z'-]+\\\\b'?\", 'vec__use_idf': True}\n",
      "\n",
      "Model with rank: 2\n",
      "Mean validation score: 0.919 (std: 0.001)\n",
      "Parameters: {'clf__estimator__C': 0.70000000000000007, 'vec__analyzer': 'word', 'vec__lowercase': True, 'vec__ngram_range': (1, 2), 'vec__smooth_idf': True, 'vec__stop_words': 'english', 'vec__sublinear_tf': True, 'vec__token_pattern': \"'?\\\\b[0-9A-Za-z'-]+\\\\b'?\", 'vec__use_idf': True}\n",
      "\n",
      "Model with rank: 3\n",
      "Mean validation score: 0.919 (std: 0.001)\n",
      "Parameters: {'clf__estimator__C': 0.50000000000000011, 'vec__analyzer': 'word', 'vec__lowercase': True, 'vec__ngram_range': (1, 2), 'vec__smooth_idf': True, 'vec__stop_words': 'english', 'vec__sublinear_tf': True, 'vec__token_pattern': \"'?\\\\b[0-9A-Za-z'-]+\\\\b'?\", 'vec__use_idf': True}\n",
      "\n",
      "Model with rank: 4\n",
      "Mean validation score: 0.919 (std: 0.001)\n",
      "Parameters: {'clf__estimator__C': 1.1000000000000003, 'vec__analyzer': 'word', 'vec__lowercase': True, 'vec__ngram_range': (1, 2), 'vec__smooth_idf': True, 'vec__stop_words': 'english', 'vec__sublinear_tf': True, 'vec__token_pattern': \"'?\\\\b[0-9A-Za-z'-]+\\\\b'?\", 'vec__use_idf': True}\n",
      "\n",
      "Model with rank: 5\n",
      "Mean validation score: 0.919 (std: 0.001)\n",
      "Parameters: {'clf__estimator__C': 1.3000000000000003, 'vec__analyzer': 'word', 'vec__lowercase': True, 'vec__ngram_range': (1, 2), 'vec__smooth_idf': True, 'vec__stop_words': 'english', 'vec__sublinear_tf': True, 'vec__token_pattern': \"'?\\\\b[0-9A-Za-z'-]+\\\\b'?\", 'vec__use_idf': True}\n",
      "\n"
     ]
    }
   ],
   "source": [
    "from sklearn.feature_extraction.text import TfidfVectorizer\n",
    "from sklearn.pipeline import Pipeline\n",
    "from sklearn.model_selection import GridSearchCV\n",
    "from sklearn.svm import LinearSVC\n",
    "from sklearn.multioutput import MultiOutputClassifier\n",
    "\n",
    "params = {\n",
    "    'vec__ngram_range': [(1,2)],\n",
    "    'vec__lowercase': [True],\n",
    "    'vec__analyzer': ['word'],\n",
    "    'vec__token_pattern': [r\"'?\\b[0-9A-Za-z'-]+\\b'?\"],\n",
    "    'vec__stop_words': ['english'],\n",
    "    'vec__use_idf': [True],\n",
    "    'vec__smooth_idf': [True],\n",
    "    'vec__sublinear_tf': [True]\n",
    "}\n",
    "\n",
    "hyper_parameter_values = list(np.arange(0.1, 1.5, 0.2)) + list(range(2, 10, 2))\n",
    "\n",
    "params.update({'clf__estimator__C': hyper_parameter_values})\n",
    "\n",
    "pipeline = Pipeline([\n",
    "    ('vec', TfidfVectorizer()),\n",
    "    ('clf', MultiOutputClassifier(NBSVMClassifier()))\n",
    "])\n",
    "\n",
    "grid_search = GridSearchCV(\n",
    "    pipeline,\n",
    "    param_grid=params,\n",
    "    cv=5,\n",
    "    n_jobs=4,\n",
    "    verbose=1\n",
    ")\n",
    "grid_search.fit(train_data.comment_text, train_data[label_cols])\n",
    "report(grid_search.cv_results_)"
   ]
  },
  {
   "cell_type": "markdown",
   "metadata": {},
   "source": [
    "За жалост този модел не се справи по-добре от обикновената линейна SVM."
   ]
  },
  {
   "cell_type": "markdown",
   "metadata": {},
   "source": [
    "### Да пробваме какво ще излезе и ако използваме невронна мрежа\n",
    "\n",
    "За целта ще пиша в нов notebook, тък като този стана прекалено дълъг."
   ]
  },
  {
   "cell_type": "code",
   "execution_count": null,
   "metadata": {},
   "outputs": [],
   "source": []
  }
 ],
 "metadata": {
  "kernelspec": {
   "display_name": "Python 3",
   "language": "python",
   "name": "python3"
  },
  "language_info": {
   "codemirror_mode": {
    "name": "ipython",
    "version": 3
   },
   "file_extension": ".py",
   "mimetype": "text/x-python",
   "name": "python",
   "nbconvert_exporter": "python",
   "pygments_lexer": "ipython3",
   "version": "3.6.3"
  }
 },
 "nbformat": 4,
 "nbformat_minor": 2
}
